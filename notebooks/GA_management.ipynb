{
  "nbformat": 4,
  "nbformat_minor": 0,
  "metadata": {
    "colab": {
      "name": "GA-management.ipynb",
      "version": "0.3.2",
      "provenance": [],
      "collapsed_sections": [],
      "include_colab_link": true
    },
    "kernelspec": {
      "name": "python3",
      "display_name": "Python 3"
    }
  },
  "cells": [
    {
      "cell_type": "markdown",
      "metadata": {
        "id": "view-in-github",
        "colab_type": "text"
      },
      "source": [
        "[View in Colaboratory](https://colab.research.google.com/github/kimiyuki/google-analytics-lib/blob/master/GA_management.ipynb)"
      ]
    },
    {
      "metadata": {
        "id": "uMbdbnRbcT5v",
        "colab_type": "code",
        "colab": {
          "base_uri": "https://localhost:8080/",
          "height": 217
        },
        "outputId": "eb461177-45f6-4310-eed1-fdc49ee1e037"
      },
      "cell_type": "code",
      "source": [
        "import numpy as np\n",
        "import pandas as pd\n",
        "!rm -f ga.py\n",
        "!wget https://raw.githubusercontent.com/kimiyuki/google-analytics-lib/master/ga.py\n",
        "from ga import GA\n",
        "#ga = GA('1089116627461-1cofqkrvcv9737j277f3em41n5pjmbgv3.apps.googleusercontent.com','hhuU3EO_NKQG3vLoGl9MknjP')\n",
        "ga = GA()"
      ],
      "execution_count": 1,
      "outputs": [
        {
          "output_type": "stream",
          "text": [
            "--2018-08-20 08:26:59--  https://raw.githubusercontent.com/kimiyuki/google-analytics-lib/master/ga.py\r\n",
            "Resolving raw.githubusercontent.com (raw.githubusercontent.com)... 151.101.0.133, 151.101.64.133, 151.101.128.133, ...\n",
            "Connecting to raw.githubusercontent.com (raw.githubusercontent.com)|151.101.0.133|:443... connected.\n",
            "HTTP request sent, awaiting response... 200 OK\n",
            "Length: 5818 (5.7K) [text/plain]\n",
            "Saving to: ‘ga.py’\n",
            "\n",
            "ga.py               100%[===================>]   5.68K  --.-KB/s    in 0s      \n",
            "\n",
            "2018-08-20 08:27:00 (53.4 MB/s) - ‘ga.py’ saved [5818/5818]\n",
            "\n"
          ],
          "name": "stdout"
        }
      ]
    },
    {
      "metadata": {
        "id": "K3BzCE92cpAN",
        "colab_type": "code",
        "colab": {
          "base_uri": "https://localhost:8080/",
          "height": 92
        },
        "outputId": "fb69696b-32a8-4a51-b3d5-d560dfc09e7e"
      },
      "cell_type": "code",
      "source": [
        "code = ga.get_code()"
      ],
      "execution_count": 2,
      "outputs": [
        {
          "output_type": "stream",
          "text": [
            "__init__() takes at most 4 positional arguments (5 given)\n"
          ],
          "name": "stderr"
        },
        {
          "output_type": "stream",
          "text": [
            "Go to the following link in your browser: https://accounts.google.com/o/oauth2/v2/auth?client_id=643412917207-qt8pe5hmntb9dpi5gbis2d3q8aithhhi.apps.googleusercontent.com&redirect_uri=urn%3Aietf%3Awg%3Aoauth%3A2.0%3Aoob&scope=https%3A%2F%2Fwww.googleapis.com%2Fauth%2Fanalytics+https%3A%2F%2Fwww.googleapis.com%2Fauth%2Fanalytics.readonly+https%3A%2F%2Fwww.googleapis.com%2Fauth%2Fwebmasters.readonly+https%3A%2F%2Fwww.googleapis.com%2Fauth%2Fgmail.send&access_type=offline&response_type=code\n",
            "··········\n"
          ],
          "name": "stdout"
        }
      ]
    },
    {
      "metadata": {
        "id": "48KD1WVuc9W0",
        "colab_type": "code",
        "colab": {
          "base_uri": "https://localhost:8080/",
          "height": 35
        },
        "outputId": "06c8b98a-3e82-413e-c275-89cd39618754"
      },
      "cell_type": "code",
      "source": [
        "ga4,ga3,gsc,cred = ga.build_service(code)"
      ],
      "execution_count": 4,
      "outputs": [
        {
          "output_type": "stream",
          "text": [
            "__init__() takes at most 4 positional arguments (5 given)\n"
          ],
          "name": "stderr"
        }
      ]
    },
    {
      "metadata": {
        "id": "u03khGm2gEwd",
        "colab_type": "text"
      },
      "cell_type": "markdown",
      "source": [
        "[Segments  |  Analytics Management API  |  Google Developers] (https://developers.google.com/analytics/devguides/config/mgmt/v3/mgmtReference/management/segments)"
      ]
    },
    {
      "metadata": {
        "id": "FPzPOTb0cv0I",
        "colab_type": "code",
        "colab": {
          "base_uri": "https://localhost:8080/",
          "height": 408
        },
        "outputId": "0d76cefa-e132-4017-f23a-9e4eaabda529"
      },
      "cell_type": "code",
      "source": [
        "#segments\n",
        "segs = ga3.management().segments().list().execute()\n",
        "df = pd.DataFrame([x for x in segs['items']])\n",
        "df.sort_values(\"created\", ascending=False).head(5)"
      ],
      "execution_count": 5,
      "outputs": [
        {
          "output_type": "execute_result",
          "data": {
            "text/html": [
              "<div>\n",
              "<style scoped>\n",
              "    .dataframe tbody tr th:only-of-type {\n",
              "        vertical-align: middle;\n",
              "    }\n",
              "\n",
              "    .dataframe tbody tr th {\n",
              "        vertical-align: top;\n",
              "    }\n",
              "\n",
              "    .dataframe thead th {\n",
              "        text-align: right;\n",
              "    }\n",
              "</style>\n",
              "<table border=\"1\" class=\"dataframe\">\n",
              "  <thead>\n",
              "    <tr style=\"text-align: right;\">\n",
              "      <th></th>\n",
              "      <th>created</th>\n",
              "      <th>definition</th>\n",
              "      <th>id</th>\n",
              "      <th>kind</th>\n",
              "      <th>name</th>\n",
              "      <th>segmentId</th>\n",
              "      <th>selfLink</th>\n",
              "      <th>type</th>\n",
              "      <th>updated</th>\n",
              "    </tr>\n",
              "  </thead>\n",
              "  <tbody>\n",
              "    <tr>\n",
              "      <th>41</th>\n",
              "      <td>2015-10-06T07:45:34.355Z</td>\n",
              "      <td>users::condition::ga:eventCategory=@dummy</td>\n",
              "      <td>fO6MbwkdSe-PCIajOCpqRA</td>\n",
              "      <td>analytics#segment</td>\n",
              "      <td>dummyユーザー</td>\n",
              "      <td>gaid::fO6MbwkdSe-PCIajOCpqRA</td>\n",
              "      <td>https://www.googleapis.com/analytics/v3/manage...</td>\n",
              "      <td>CUSTOM</td>\n",
              "      <td>2015-10-06T07:47:36.368Z</td>\n",
              "    </tr>\n",
              "    <tr>\n",
              "      <th>61</th>\n",
              "      <td>2014-09-24T04:01:47.317Z</td>\n",
              "      <td>users::condition::ga:sessions&gt;2</td>\n",
              "      <td>zMBcW35cT7OwwSi-CjxO6A</td>\n",
              "      <td>analytics#segment</td>\n",
              "      <td>セッション３回以上</td>\n",
              "      <td>gaid::zMBcW35cT7OwwSi-CjxO6A</td>\n",
              "      <td>https://www.googleapis.com/analytics/v3/manage...</td>\n",
              "      <td>CUSTOM</td>\n",
              "      <td>2014-09-24T04:01:47.317Z</td>\n",
              "    </tr>\n",
              "    <tr>\n",
              "      <th>60</th>\n",
              "      <td>2014-09-24T04:01:03.505Z</td>\n",
              "      <td>users::condition::ga:sessions==2</td>\n",
              "      <td>VY4KFkAQQiW1-sO7KI5tBw</td>\n",
              "      <td>analytics#segment</td>\n",
              "      <td>セッション２回</td>\n",
              "      <td>gaid::VY4KFkAQQiW1-sO7KI5tBw</td>\n",
              "      <td>https://www.googleapis.com/analytics/v3/manage...</td>\n",
              "      <td>CUSTOM</td>\n",
              "      <td>2014-09-24T04:01:03.505Z</td>\n",
              "    </tr>\n",
              "    <tr>\n",
              "      <th>59</th>\n",
              "      <td>2014-09-24T04:00:41.296Z</td>\n",
              "      <td>users::condition::ga:sessions==1</td>\n",
              "      <td>xWDU1RXLT4iISO4uFkNdlQ</td>\n",
              "      <td>analytics#segment</td>\n",
              "      <td>セッション一回</td>\n",
              "      <td>gaid::xWDU1RXLT4iISO4uFkNdlQ</td>\n",
              "      <td>https://www.googleapis.com/analytics/v3/manage...</td>\n",
              "      <td>CUSTOM</td>\n",
              "      <td>2014-09-24T04:00:41.296Z</td>\n",
              "    </tr>\n",
              "    <tr>\n",
              "      <th>68</th>\n",
              "      <td>2014-05-17T08:00:33.610Z</td>\n",
              "      <td>sessions::condition::ga:pagePath=~^\\Q/order/th...</td>\n",
              "      <td>uCFXpeMSQLu54rndOIWeOg</td>\n",
              "      <td>analytics#segment</td>\n",
              "      <td>ラポマイン目標ページ</td>\n",
              "      <td>gaid::uCFXpeMSQLu54rndOIWeOg</td>\n",
              "      <td>https://www.googleapis.com/analytics/v3/manage...</td>\n",
              "      <td>CUSTOM</td>\n",
              "      <td>2014-05-17T08:00:33.610Z</td>\n",
              "    </tr>\n",
              "  </tbody>\n",
              "</table>\n",
              "</div>"
            ],
            "text/plain": [
              "                     created  \\\n",
              "41  2015-10-06T07:45:34.355Z   \n",
              "61  2014-09-24T04:01:47.317Z   \n",
              "60  2014-09-24T04:01:03.505Z   \n",
              "59  2014-09-24T04:00:41.296Z   \n",
              "68  2014-05-17T08:00:33.610Z   \n",
              "\n",
              "                                           definition                      id  \\\n",
              "41          users::condition::ga:eventCategory=@dummy  fO6MbwkdSe-PCIajOCpqRA   \n",
              "61                    users::condition::ga:sessions>2  zMBcW35cT7OwwSi-CjxO6A   \n",
              "60                   users::condition::ga:sessions==2  VY4KFkAQQiW1-sO7KI5tBw   \n",
              "59                   users::condition::ga:sessions==1  xWDU1RXLT4iISO4uFkNdlQ   \n",
              "68  sessions::condition::ga:pagePath=~^\\Q/order/th...  uCFXpeMSQLu54rndOIWeOg   \n",
              "\n",
              "                 kind        name                     segmentId  \\\n",
              "41  analytics#segment   dummyユーザー  gaid::fO6MbwkdSe-PCIajOCpqRA   \n",
              "61  analytics#segment   セッション３回以上  gaid::zMBcW35cT7OwwSi-CjxO6A   \n",
              "60  analytics#segment     セッション２回  gaid::VY4KFkAQQiW1-sO7KI5tBw   \n",
              "59  analytics#segment     セッション一回  gaid::xWDU1RXLT4iISO4uFkNdlQ   \n",
              "68  analytics#segment  ラポマイン目標ページ  gaid::uCFXpeMSQLu54rndOIWeOg   \n",
              "\n",
              "                                             selfLink    type  \\\n",
              "41  https://www.googleapis.com/analytics/v3/manage...  CUSTOM   \n",
              "61  https://www.googleapis.com/analytics/v3/manage...  CUSTOM   \n",
              "60  https://www.googleapis.com/analytics/v3/manage...  CUSTOM   \n",
              "59  https://www.googleapis.com/analytics/v3/manage...  CUSTOM   \n",
              "68  https://www.googleapis.com/analytics/v3/manage...  CUSTOM   \n",
              "\n",
              "                     updated  \n",
              "41  2015-10-06T07:47:36.368Z  \n",
              "61  2014-09-24T04:01:47.317Z  \n",
              "60  2014-09-24T04:01:03.505Z  \n",
              "59  2014-09-24T04:00:41.296Z  \n",
              "68  2014-05-17T08:00:33.610Z  "
            ]
          },
          "metadata": {
            "tags": []
          },
          "execution_count": 5
        }
      ]
    },
    {
      "metadata": {
        "id": "kMC129tXe4kZ",
        "colab_type": "text"
      },
      "cell_type": "markdown",
      "source": [
        "[Filters: list  |  Analytics Management API  |  Google Developers ](https://developers.google.com/analytics/devguides/config/mgmt/v3/mgmtReference/management/filters/list)"
      ]
    },
    {
      "metadata": {
        "id": "RYI1pdHVf3wJ",
        "colab_type": "code",
        "colab": {
          "base_uri": "https://localhost:8080/",
          "height": 262
        },
        "outputId": "8c691266-cb3f-4489-bed4-52ab11b1c736"
      },
      "cell_type": "code",
      "source": [
        "res_filters = ga3.management().filters().list(accountId=\"188512\").execute()\n",
        "filters = pd.DataFrame([x for x in res_filters['items']])\n",
        "fitlers.head(3)"
      ],
      "execution_count": 0,
      "outputs": [
        {
          "output_type": "execute_result",
          "data": {
            "text/html": [
              "<div>\n",
              "<style scoped>\n",
              "    .dataframe tbody tr th:only-of-type {\n",
              "        vertical-align: middle;\n",
              "    }\n",
              "\n",
              "    .dataframe tbody tr th {\n",
              "        vertical-align: top;\n",
              "    }\n",
              "\n",
              "    .dataframe thead th {\n",
              "        text-align: right;\n",
              "    }\n",
              "</style>\n",
              "<table border=\"1\" class=\"dataframe\">\n",
              "  <thead>\n",
              "    <tr style=\"text-align: right;\">\n",
              "      <th></th>\n",
              "      <th>accountId</th>\n",
              "      <th>advancedDetails</th>\n",
              "      <th>created</th>\n",
              "      <th>excludeDetails</th>\n",
              "      <th>id</th>\n",
              "      <th>includeDetails</th>\n",
              "      <th>kind</th>\n",
              "      <th>name</th>\n",
              "      <th>parentLink</th>\n",
              "      <th>searchAndReplaceDetails</th>\n",
              "      <th>selfLink</th>\n",
              "      <th>type</th>\n",
              "      <th>updated</th>\n",
              "    </tr>\n",
              "  </thead>\n",
              "  <tbody>\n",
              "    <tr>\n",
              "      <th>0</th>\n",
              "      <td>188512</td>\n",
              "      <td>NaN</td>\n",
              "      <td>2009-09-05T01:38:48.000Z</td>\n",
              "      <td>{'kind': 'analytics#filterExpression', 'field'...</td>\n",
              "      <td>1991377</td>\n",
              "      <td>NaN</td>\n",
              "      <td>analytics#filter</td>\n",
              "      <td>include cpc</td>\n",
              "      <td>{'type': 'analytics#account', 'href': 'https:/...</td>\n",
              "      <td>NaN</td>\n",
              "      <td>https://www.googleapis.com/analytics/v3/manage...</td>\n",
              "      <td>EXCLUDE</td>\n",
              "      <td>2010-03-02T15:56:27.976Z</td>\n",
              "    </tr>\n",
              "    <tr>\n",
              "      <th>1</th>\n",
              "      <td>188512</td>\n",
              "      <td>{'fieldA': 'PAGE_REQUEST_URI', 'extractA': 'ar...</td>\n",
              "      <td>2009-09-05T01:53:06.000Z</td>\n",
              "      <td>NaN</td>\n",
              "      <td>1991388</td>\n",
              "      <td>NaN</td>\n",
              "      <td>analytics#filter</td>\n",
              "      <td>hoge</td>\n",
              "      <td>{'type': 'analytics#account', 'href': 'https:/...</td>\n",
              "      <td>NaN</td>\n",
              "      <td>https://www.googleapis.com/analytics/v3/manage...</td>\n",
              "      <td>ADVANCED</td>\n",
              "      <td>2010-03-02T15:56:27.976Z</td>\n",
              "    </tr>\n",
              "    <tr>\n",
              "      <th>2</th>\n",
              "      <td>188512</td>\n",
              "      <td>NaN</td>\n",
              "      <td>2009-09-07T17:52:28.000Z</td>\n",
              "      <td>{'kind': 'analytics#filterExpression', 'field'...</td>\n",
              "      <td>1995150</td>\n",
              "      <td>NaN</td>\n",
              "      <td>analytics#filter</td>\n",
              "      <td>exclude me</td>\n",
              "      <td>{'type': 'analytics#account', 'href': 'https:/...</td>\n",
              "      <td>NaN</td>\n",
              "      <td>https://www.googleapis.com/analytics/v3/manage...</td>\n",
              "      <td>EXCLUDE</td>\n",
              "      <td>2010-03-20T14:01:06.071Z</td>\n",
              "    </tr>\n",
              "  </tbody>\n",
              "</table>\n",
              "</div>"
            ],
            "text/plain": [
              "  accountId                                    advancedDetails  \\\n",
              "0    188512                                                NaN   \n",
              "1    188512  {'fieldA': 'PAGE_REQUEST_URI', 'extractA': 'ar...   \n",
              "2    188512                                                NaN   \n",
              "\n",
              "                    created  \\\n",
              "0  2009-09-05T01:38:48.000Z   \n",
              "1  2009-09-05T01:53:06.000Z   \n",
              "2  2009-09-07T17:52:28.000Z   \n",
              "\n",
              "                                      excludeDetails       id includeDetails  \\\n",
              "0  {'kind': 'analytics#filterExpression', 'field'...  1991377            NaN   \n",
              "1                                                NaN  1991388            NaN   \n",
              "2  {'kind': 'analytics#filterExpression', 'field'...  1995150            NaN   \n",
              "\n",
              "               kind         name  \\\n",
              "0  analytics#filter  include cpc   \n",
              "1  analytics#filter         hoge   \n",
              "2  analytics#filter   exclude me   \n",
              "\n",
              "                                          parentLink searchAndReplaceDetails  \\\n",
              "0  {'type': 'analytics#account', 'href': 'https:/...                     NaN   \n",
              "1  {'type': 'analytics#account', 'href': 'https:/...                     NaN   \n",
              "2  {'type': 'analytics#account', 'href': 'https:/...                     NaN   \n",
              "\n",
              "                                            selfLink      type  \\\n",
              "0  https://www.googleapis.com/analytics/v3/manage...   EXCLUDE   \n",
              "1  https://www.googleapis.com/analytics/v3/manage...  ADVANCED   \n",
              "2  https://www.googleapis.com/analytics/v3/manage...   EXCLUDE   \n",
              "\n",
              "                    updated  \n",
              "0  2010-03-02T15:56:27.976Z  \n",
              "1  2010-03-02T15:56:27.976Z  \n",
              "2  2010-03-20T14:01:06.071Z  "
            ]
          },
          "metadata": {
            "tags": []
          },
          "execution_count": 20
        }
      ]
    },
    {
      "metadata": {
        "id": "jL4QMNQohIw3",
        "colab_type": "text"
      },
      "cell_type": "markdown",
      "source": [
        "[Reporting Data 概要  |  アナリティクス Reporting API v4  |  Google Developers](https://developers.google.com/analytics/devguides/reporting/core/v4/)"
      ]
    },
    {
      "metadata": {
        "id": "Fr8ao-qwhLpN",
        "colab_type": "code",
        "colab": {
          "base_uri": "https://localhost:8080/",
          "height": 199
        },
        "outputId": "b6a56a24-46ca-4583-9716-94b780ff53a9"
      },
      "cell_type": "code",
      "source": [
        "VIEW_ID = \"25513728\" # my google analytics view id....\n",
        "req = ga.get_template(VIEW_ID)\n",
        "\n",
        "#metrics\n",
        "metrics = ['pageviews', 'users','bounces','sessions','newVisits']\n",
        "metrics_ar = map(lambda x: {'expression': \"ga:\"+x}, metrics)\n",
        "\n",
        "#dimensions\n",
        "req['dateRanges'] = [{'startDate': '30daysAgo', 'endDate': 'today'}]\n",
        "req['dimensions'] = [{'name':'ga:dateHourMinute'}, {'name': 'ga:deviceCategory'}, {'name':'ga:sourceMedium'}]\n",
        "req['metrics'] = list(metrics_ar)\n",
        "req"
      ],
      "execution_count": 21,
      "outputs": [
        {
          "output_type": "execute_result",
          "data": {
            "text/plain": [
              "{'dateRanges': [{'endDate': 'today', 'startDate': '30daysAgo'}],\n",
              " 'dimensions': [{'name': 'ga:dateHourMinute'},\n",
              "  {'name': 'ga:deviceCategory'},\n",
              "  {'name': 'ga:sourceMedium'}],\n",
              " 'metrics': [{'expression': 'ga:pageviews'},\n",
              "  {'expression': 'ga:users'},\n",
              "  {'expression': 'ga:bounces'},\n",
              "  {'expression': 'ga:sessions'},\n",
              "  {'expression': 'ga:newVisits'}],\n",
              " 'viewId': '25513728'}"
            ]
          },
          "metadata": {
            "tags": []
          },
          "execution_count": 21
        }
      ]
    },
    {
      "metadata": {
        "id": "pONPbKJ_hqMY",
        "colab_type": "code",
        "colab": {
          "base_uri": "https://localhost:8080/",
          "height": 35
        },
        "outputId": "e725f35e-4689-4a5e-dbc2-a1957d9492a8"
      },
      "cell_type": "code",
      "source": [
        "ret = pd.concat( (x for x in ga.getData([req], maxreq=2)) )\n",
        "#if(\"date\" in ret.columns):\n",
        "#  ret.date = pd.to_datetime(ret.date, format='%Y%m%d')  \n",
        "from datetime import datetime\n",
        "ret['time'] = pd.to_datetime(ret.dateHourMinute, format=\"%Y%m%d%H%M\")\n",
        "del ret['dateHourMinute']"
      ],
      "execution_count": 22,
      "outputs": [
        {
          "output_type": "stream",
          "text": [
            "142\n"
          ],
          "name": "stdout"
        }
      ]
    },
    {
      "metadata": {
        "id": "Q8jZFnDchsEa",
        "colab_type": "code",
        "colab": {
          "base_uri": "https://localhost:8080/",
          "height": 198
        },
        "outputId": "451f2139-8eba-4a88-ffe6-60e7209d3bc7"
      },
      "cell_type": "code",
      "source": [
        "ret.head(5)"
      ],
      "execution_count": 24,
      "outputs": [
        {
          "output_type": "execute_result",
          "data": {
            "text/html": [
              "<div>\n",
              "<style scoped>\n",
              "    .dataframe tbody tr th:only-of-type {\n",
              "        vertical-align: middle;\n",
              "    }\n",
              "\n",
              "    .dataframe tbody tr th {\n",
              "        vertical-align: top;\n",
              "    }\n",
              "\n",
              "    .dataframe thead th {\n",
              "        text-align: right;\n",
              "    }\n",
              "</style>\n",
              "<table border=\"1\" class=\"dataframe\">\n",
              "  <thead>\n",
              "    <tr style=\"text-align: right;\">\n",
              "      <th></th>\n",
              "      <th>deviceCategory</th>\n",
              "      <th>sourceMedium</th>\n",
              "      <th>pageviews</th>\n",
              "      <th>users</th>\n",
              "      <th>bounces</th>\n",
              "      <th>sessions</th>\n",
              "      <th>newVisits</th>\n",
              "      <th>time</th>\n",
              "    </tr>\n",
              "  </thead>\n",
              "  <tbody>\n",
              "    <tr>\n",
              "      <th>0</th>\n",
              "      <td>desktop</td>\n",
              "      <td>(direct) / (none)</td>\n",
              "      <td>1</td>\n",
              "      <td>1</td>\n",
              "      <td>1</td>\n",
              "      <td>1</td>\n",
              "      <td>1</td>\n",
              "      <td>2018-07-22 03:47:00</td>\n",
              "    </tr>\n",
              "    <tr>\n",
              "      <th>1</th>\n",
              "      <td>desktop</td>\n",
              "      <td>yahoo / organic</td>\n",
              "      <td>1</td>\n",
              "      <td>1</td>\n",
              "      <td>1</td>\n",
              "      <td>1</td>\n",
              "      <td>1</td>\n",
              "      <td>2018-07-22 17:53:00</td>\n",
              "    </tr>\n",
              "    <tr>\n",
              "      <th>2</th>\n",
              "      <td>desktop</td>\n",
              "      <td>(direct) / (none)</td>\n",
              "      <td>1</td>\n",
              "      <td>1</td>\n",
              "      <td>1</td>\n",
              "      <td>1</td>\n",
              "      <td>1</td>\n",
              "      <td>2018-07-23 06:05:00</td>\n",
              "    </tr>\n",
              "    <tr>\n",
              "      <th>3</th>\n",
              "      <td>desktop</td>\n",
              "      <td>google / organic</td>\n",
              "      <td>1</td>\n",
              "      <td>1</td>\n",
              "      <td>1</td>\n",
              "      <td>1</td>\n",
              "      <td>1</td>\n",
              "      <td>2018-07-23 11:19:00</td>\n",
              "    </tr>\n",
              "    <tr>\n",
              "      <th>4</th>\n",
              "      <td>desktop</td>\n",
              "      <td>google / organic</td>\n",
              "      <td>1</td>\n",
              "      <td>1</td>\n",
              "      <td>1</td>\n",
              "      <td>1</td>\n",
              "      <td>1</td>\n",
              "      <td>2018-07-23 12:49:00</td>\n",
              "    </tr>\n",
              "  </tbody>\n",
              "</table>\n",
              "</div>"
            ],
            "text/plain": [
              "  deviceCategory       sourceMedium  pageviews  users  bounces  sessions  \\\n",
              "0        desktop  (direct) / (none)          1      1        1         1   \n",
              "1        desktop    yahoo / organic          1      1        1         1   \n",
              "2        desktop  (direct) / (none)          1      1        1         1   \n",
              "3        desktop   google / organic          1      1        1         1   \n",
              "4        desktop   google / organic          1      1        1         1   \n",
              "\n",
              "   newVisits                time  \n",
              "0          1 2018-07-22 03:47:00  \n",
              "1          1 2018-07-22 17:53:00  \n",
              "2          1 2018-07-23 06:05:00  \n",
              "3          1 2018-07-23 11:19:00  \n",
              "4          1 2018-07-23 12:49:00  "
            ]
          },
          "metadata": {
            "tags": []
          },
          "execution_count": 24
        }
      ]
    }
  ]
}