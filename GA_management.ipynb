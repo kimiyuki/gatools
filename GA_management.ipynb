{
  "nbformat": 4,
  "nbformat_minor": 0,
  "metadata": {
    "colab": {
      "name": "GA-management.ipynb",
      "version": "0.3.2",
      "provenance": [],
      "include_colab_link": true
    },
    "kernelspec": {
      "name": "python3",
      "display_name": "Python 3"
    }
  },
  "cells": [
    {
      "cell_type": "markdown",
      "metadata": {
        "id": "view-in-github",
        "colab_type": "text"
      },
      "source": [
        "[View in Colaboratory](https://colab.research.google.com/github/kimiyuki/google-analytics-lib/blob/master/GA_management.ipynb)"
      ]
    },
    {
      "metadata": {
        "id": "uMbdbnRbcT5v",
        "colab_type": "code",
        "colab": {
          "base_uri": "https://localhost:8080/",
          "height": 217
        },
        "outputId": "eb461177-45f6-4310-eed1-fdc49ee1e037"
      },
      "cell_type": "code",
      "source": [
        "import numpy as np\n",
        "import pandas as pd\n",
        "!rm -f ga.py\n",
        "!wget https://raw.githubusercontent.com/kimiyuki/google-analytics-lib/master/ga.py\n",
        "from ga import GA\n",
        "#ga = GA('1089116627461-1cofqkrvcv9737j277f3em41n5pjmbgv3.apps.googleusercontent.com','hhuU3EO_NKQG3vLoGl9MknjP')\n",
        "ga = GA()"
      ],
      "execution_count": 1,
      "outputs": [
        {
          "output_type": "stream",
          "text": [
            "--2018-08-20 08:26:59--  https://raw.githubusercontent.com/kimiyuki/google-analytics-lib/master/ga.py\r\n",
            "Resolving raw.githubusercontent.com (raw.githubusercontent.com)... 151.101.0.133, 151.101.64.133, 151.101.128.133, ...\n",
            "Connecting to raw.githubusercontent.com (raw.githubusercontent.com)|151.101.0.133|:443... connected.\n",
            "HTTP request sent, awaiting response... 200 OK\n",
            "Length: 5818 (5.7K) [text/plain]\n",
            "Saving to: ‘ga.py’\n",
            "\n",
            "ga.py               100%[===================>]   5.68K  --.-KB/s    in 0s      \n",
            "\n",
            "2018-08-20 08:27:00 (53.4 MB/s) - ‘ga.py’ saved [5818/5818]\n",
            "\n"
          ],
          "name": "stdout"
        }
      ]
    },
    {
      "metadata": {
        "id": "K3BzCE92cpAN",
        "colab_type": "code",
        "colab": {
          "base_uri": "https://localhost:8080/",
          "height": 92
        },
        "outputId": "fb69696b-32a8-4a51-b3d5-d560dfc09e7e"
      },
      "cell_type": "code",
      "source": [
        "code = ga.get_code()"
      ],
      "execution_count": 2,
      "outputs": [
        {
          "output_type": "stream",
          "text": [
            "__init__() takes at most 4 positional arguments (5 given)\n"
          ],
          "name": "stderr"
        },
        {
          "output_type": "stream",
          "text": [
            "Go to the following link in your browser: https://accounts.google.com/o/oauth2/v2/auth?client_id=643412917207-qt8pe5hmntb9dpi5gbis2d3q8aithhhi.apps.googleusercontent.com&redirect_uri=urn%3Aietf%3Awg%3Aoauth%3A2.0%3Aoob&scope=https%3A%2F%2Fwww.googleapis.com%2Fauth%2Fanalytics+https%3A%2F%2Fwww.googleapis.com%2Fauth%2Fanalytics.readonly+https%3A%2F%2Fwww.googleapis.com%2Fauth%2Fwebmasters.readonly+https%3A%2F%2Fwww.googleapis.com%2Fauth%2Fgmail.send&access_type=offline&response_type=code\n",
            "··········\n"
          ],
          "name": "stdout"
        }
      ]
    },
    {
      "metadata": {
        "id": "48KD1WVuc9W0",
        "colab_type": "code",
        "colab": {
          "base_uri": "https://localhost:8080/",
          "height": 35
        },
        "outputId": "06c8b98a-3e82-413e-c275-89cd39618754"
      },
      "cell_type": "code",
      "source": [
        "ga4,ga3,gsc,cred = ga.build_service(code)"
      ],
      "execution_count": 4,
      "outputs": [
        {
          "output_type": "stream",
          "text": [
            "__init__() takes at most 4 positional arguments (5 given)\n"
          ],
          "name": "stderr"
        }
      ]
    },
    {
      "metadata": {
        "id": "FPzPOTb0cv0I",
        "colab_type": "code",
        "colab": {
          "base_uri": "https://localhost:8080/",
          "height": 408
        },
        "outputId": "0d76cefa-e132-4017-f23a-9e4eaabda529"
      },
      "cell_type": "code",
      "source": [
        "#segments\n",
        "segs = ga3.management().segments().list().execute()\n",
        "df = pd.DataFrame([x for x in segs['items']])\n",
        "df.sort_values(\"created\", ascending=False).head(5)"
      ],
      "execution_count": 5,
      "outputs": [
        {
          "output_type": "execute_result",
          "data": {
            "text/html": [
              "<div>\n",
              "<style scoped>\n",
              "    .dataframe tbody tr th:only-of-type {\n",
              "        vertical-align: middle;\n",
              "    }\n",
              "\n",
              "    .dataframe tbody tr th {\n",
              "        vertical-align: top;\n",
              "    }\n",
              "\n",
              "    .dataframe thead th {\n",
              "        text-align: right;\n",
              "    }\n",
              "</style>\n",
              "<table border=\"1\" class=\"dataframe\">\n",
              "  <thead>\n",
              "    <tr style=\"text-align: right;\">\n",
              "      <th></th>\n",
              "      <th>created</th>\n",
              "      <th>definition</th>\n",
              "      <th>id</th>\n",
              "      <th>kind</th>\n",
              "      <th>name</th>\n",
              "      <th>segmentId</th>\n",
              "      <th>selfLink</th>\n",
              "      <th>type</th>\n",
              "      <th>updated</th>\n",
              "    </tr>\n",
              "  </thead>\n",
              "  <tbody>\n",
              "    <tr>\n",
              "      <th>41</th>\n",
              "      <td>2015-10-06T07:45:34.355Z</td>\n",
              "      <td>users::condition::ga:eventCategory=@dummy</td>\n",
              "      <td>fO6MbwkdSe-PCIajOCpqRA</td>\n",
              "      <td>analytics#segment</td>\n",
              "      <td>dummyユーザー</td>\n",
              "      <td>gaid::fO6MbwkdSe-PCIajOCpqRA</td>\n",
              "      <td>https://www.googleapis.com/analytics/v3/manage...</td>\n",
              "      <td>CUSTOM</td>\n",
              "      <td>2015-10-06T07:47:36.368Z</td>\n",
              "    </tr>\n",
              "    <tr>\n",
              "      <th>61</th>\n",
              "      <td>2014-09-24T04:01:47.317Z</td>\n",
              "      <td>users::condition::ga:sessions&gt;2</td>\n",
              "      <td>zMBcW35cT7OwwSi-CjxO6A</td>\n",
              "      <td>analytics#segment</td>\n",
              "      <td>セッション３回以上</td>\n",
              "      <td>gaid::zMBcW35cT7OwwSi-CjxO6A</td>\n",
              "      <td>https://www.googleapis.com/analytics/v3/manage...</td>\n",
              "      <td>CUSTOM</td>\n",
              "      <td>2014-09-24T04:01:47.317Z</td>\n",
              "    </tr>\n",
              "    <tr>\n",
              "      <th>60</th>\n",
              "      <td>2014-09-24T04:01:03.505Z</td>\n",
              "      <td>users::condition::ga:sessions==2</td>\n",
              "      <td>VY4KFkAQQiW1-sO7KI5tBw</td>\n",
              "      <td>analytics#segment</td>\n",
              "      <td>セッション２回</td>\n",
              "      <td>gaid::VY4KFkAQQiW1-sO7KI5tBw</td>\n",
              "      <td>https://www.googleapis.com/analytics/v3/manage...</td>\n",
              "      <td>CUSTOM</td>\n",
              "      <td>2014-09-24T04:01:03.505Z</td>\n",
              "    </tr>\n",
              "    <tr>\n",
              "      <th>59</th>\n",
              "      <td>2014-09-24T04:00:41.296Z</td>\n",
              "      <td>users::condition::ga:sessions==1</td>\n",
              "      <td>xWDU1RXLT4iISO4uFkNdlQ</td>\n",
              "      <td>analytics#segment</td>\n",
              "      <td>セッション一回</td>\n",
              "      <td>gaid::xWDU1RXLT4iISO4uFkNdlQ</td>\n",
              "      <td>https://www.googleapis.com/analytics/v3/manage...</td>\n",
              "      <td>CUSTOM</td>\n",
              "      <td>2014-09-24T04:00:41.296Z</td>\n",
              "    </tr>\n",
              "    <tr>\n",
              "      <th>68</th>\n",
              "      <td>2014-05-17T08:00:33.610Z</td>\n",
              "      <td>sessions::condition::ga:pagePath=~^\\Q/order/th...</td>\n",
              "      <td>uCFXpeMSQLu54rndOIWeOg</td>\n",
              "      <td>analytics#segment</td>\n",
              "      <td>ラポマイン目標ページ</td>\n",
              "      <td>gaid::uCFXpeMSQLu54rndOIWeOg</td>\n",
              "      <td>https://www.googleapis.com/analytics/v3/manage...</td>\n",
              "      <td>CUSTOM</td>\n",
              "      <td>2014-05-17T08:00:33.610Z</td>\n",
              "    </tr>\n",
              "  </tbody>\n",
              "</table>\n",
              "</div>"
            ],
            "text/plain": [
              "                     created  \\\n",
              "41  2015-10-06T07:45:34.355Z   \n",
              "61  2014-09-24T04:01:47.317Z   \n",
              "60  2014-09-24T04:01:03.505Z   \n",
              "59  2014-09-24T04:00:41.296Z   \n",
              "68  2014-05-17T08:00:33.610Z   \n",
              "\n",
              "                                           definition                      id  \\\n",
              "41          users::condition::ga:eventCategory=@dummy  fO6MbwkdSe-PCIajOCpqRA   \n",
              "61                    users::condition::ga:sessions>2  zMBcW35cT7OwwSi-CjxO6A   \n",
              "60                   users::condition::ga:sessions==2  VY4KFkAQQiW1-sO7KI5tBw   \n",
              "59                   users::condition::ga:sessions==1  xWDU1RXLT4iISO4uFkNdlQ   \n",
              "68  sessions::condition::ga:pagePath=~^\\Q/order/th...  uCFXpeMSQLu54rndOIWeOg   \n",
              "\n",
              "                 kind        name                     segmentId  \\\n",
              "41  analytics#segment   dummyユーザー  gaid::fO6MbwkdSe-PCIajOCpqRA   \n",
              "61  analytics#segment   セッション３回以上  gaid::zMBcW35cT7OwwSi-CjxO6A   \n",
              "60  analytics#segment     セッション２回  gaid::VY4KFkAQQiW1-sO7KI5tBw   \n",
              "59  analytics#segment     セッション一回  gaid::xWDU1RXLT4iISO4uFkNdlQ   \n",
              "68  analytics#segment  ラポマイン目標ページ  gaid::uCFXpeMSQLu54rndOIWeOg   \n",
              "\n",
              "                                             selfLink    type  \\\n",
              "41  https://www.googleapis.com/analytics/v3/manage...  CUSTOM   \n",
              "61  https://www.googleapis.com/analytics/v3/manage...  CUSTOM   \n",
              "60  https://www.googleapis.com/analytics/v3/manage...  CUSTOM   \n",
              "59  https://www.googleapis.com/analytics/v3/manage...  CUSTOM   \n",
              "68  https://www.googleapis.com/analytics/v3/manage...  CUSTOM   \n",
              "\n",
              "                     updated  \n",
              "41  2015-10-06T07:47:36.368Z  \n",
              "61  2014-09-24T04:01:47.317Z  \n",
              "60  2014-09-24T04:01:03.505Z  \n",
              "59  2014-09-24T04:00:41.296Z  \n",
              "68  2014-05-17T08:00:33.610Z  "
            ]
          },
          "metadata": {
            "tags": []
          },
          "execution_count": 5
        }
      ]
    }
  ]
}