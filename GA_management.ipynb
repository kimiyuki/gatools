{
  "nbformat": 4,
  "nbformat_minor": 0,
  "metadata": {
    "colab": {
      "name": "GA-management.ipynb",
      "version": "0.3.2",
      "provenance": [],
      "include_colab_link": true
    },
    "kernelspec": {
      "name": "python3",
      "display_name": "Python 3"
    }
  },
  "cells": [
    {
      "cell_type": "markdown",
      "metadata": {
        "id": "view-in-github",
        "colab_type": "text"
      },
      "source": [
        "[View in Colaboratory](https://colab.research.google.com/github/kimiyuki/google-analytics-lib/blob/master/GA_management.ipynb)"
      ]
    },
    {
      "metadata": {
        "id": "uMbdbnRbcT5v",
        "colab_type": "code",
        "colab": {
          "base_uri": "https://localhost:8080/",
          "height": 217
        },
        "outputId": "eb461177-45f6-4310-eed1-fdc49ee1e037"
      },
      "cell_type": "code",
      "source": [
        "import numpy as np\n",
        "import pandas as pd\n",
        "!rm -f ga.py\n",
        "!wget https://raw.githubusercontent.com/kimiyuki/google-analytics-lib/master/ga.py\n",
        "from ga import GA\n",
        "#ga = GA('1089116627461-1cofqkrvcv9737j277f3em41n5pjmbgv3.apps.googleusercontent.com','hhuU3EO_NKQG3vLoGl9MknjP')\n",
        "ga = GA()"
      ],
      "execution_count": 1,
      "outputs": [
        {
          "output_type": "stream",
          "text": [
            "--2018-08-20 08:26:59--  https://raw.githubusercontent.com/kimiyuki/google-analytics-lib/master/ga.py\r\n",
            "Resolving raw.githubusercontent.com (raw.githubusercontent.com)... 151.101.0.133, 151.101.64.133, 151.101.128.133, ...\n",
            "Connecting to raw.githubusercontent.com (raw.githubusercontent.com)|151.101.0.133|:443... connected.\n",
            "HTTP request sent, awaiting response... 200 OK\n",
            "Length: 5818 (5.7K) [text/plain]\n",
            "Saving to: ‘ga.py’\n",
            "\n",
            "ga.py               100%[===================>]   5.68K  --.-KB/s    in 0s      \n",
            "\n",
            "2018-08-20 08:27:00 (53.4 MB/s) - ‘ga.py’ saved [5818/5818]\n",
            "\n"
          ],
          "name": "stdout"
        }
      ]
    }
  ]
}